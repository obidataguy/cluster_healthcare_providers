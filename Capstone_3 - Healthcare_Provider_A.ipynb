{
 "cells": [
  {
   "cell_type": "markdown",
   "metadata": {},
   "source": [
    "## Project Objective\n",
    "For this project I chose a **Healthcaere Providers** dataset from Kaggle. Data set has about 100k entries but I'll work with only 30K, for ease of computation.\n",
    "\n",
    "I will attempt to cluster these providers into multiple Segments.\n",
    "\n",
    "I will attempt four different clustering techniques; KMeans, DBSCAN, Agglomerative Clustering and Guassian Mixture Models.\n",
    "\n",
    "I will evaluate a clustering techniques using the Silhouete score and pick what I consider to be the best.\n",
    "\n",
    "I will perform some EDA to investigate the characteristics of each cluster, with respect to their charges, to see if there may be anomalies."
   ]
  },
  {
   "cell_type": "code",
   "execution_count": 1,
   "metadata": {
    "colab": {
     "base_uri": "https://localhost:8080/"
    },
    "executionInfo": {
     "elapsed": 4,
     "status": "ok",
     "timestamp": 1635990139959,
     "user": {
      "displayName": "Emmanuel Obunadike",
      "photoUrl": "https://lh3.googleusercontent.com/a/default-user=s64",
      "userId": "00712408289414050638"
     },
     "user_tz": 240
    },
    "id": "qdSq_6kTV1qz",
    "outputId": "f3c5647e-f1ee-4402-9c23-0d182c841968"
   },
   "outputs": [],
   "source": [
    "##from google.colab import drive\n",
    "##drive.mount('/content/drive')"
   ]
  },
  {
   "cell_type": "code",
   "execution_count": 57,
   "metadata": {
    "colab": {
     "base_uri": "https://localhost:8080/"
    },
    "executionInfo": {
     "elapsed": 4034,
     "status": "ok",
     "timestamp": 1636071543398,
     "user": {
      "displayName": "Emmanuel Obunadike",
      "photoUrl": "https://lh3.googleusercontent.com/a/default-user=s64",
      "userId": "00712408289414050638"
     },
     "user_tz": 240
    },
    "id": "_AYaMtMrolf_",
    "outputId": "d12a485a-ebe3-4524-ba22-64d1b6ee9b04"
   },
   "outputs": [
    {
     "name": "stdout",
     "output_type": "stream",
     "text": [
      "Requirement already satisfied: umap-learn in c:\\users\\eobun\\anaconda3\\lib\\site-packages (0.5.1)\n",
      "Requirement already satisfied: scikit-learn>=0.22 in c:\\users\\eobun\\anaconda3\\lib\\site-packages (from umap-learn) (0.24.1)\n",
      "Requirement already satisfied: numba>=0.49 in c:\\users\\eobun\\anaconda3\\lib\\site-packages (from umap-learn) (0.53.1)\n",
      "Requirement already satisfied: numpy>=1.17 in c:\\users\\eobun\\anaconda3\\lib\\site-packages (from umap-learn) (1.20.1)\n",
      "Requirement already satisfied: pynndescent>=0.5 in c:\\users\\eobun\\anaconda3\\lib\\site-packages (from umap-learn) (0.5.5)\n",
      "Requirement already satisfied: scipy>=1.0 in c:\\users\\eobun\\anaconda3\\lib\\site-packages (from umap-learn) (1.6.2)\n",
      "Requirement already satisfied: llvmlite<0.37,>=0.36.0rc1 in c:\\users\\eobun\\anaconda3\\lib\\site-packages (from numba>=0.49->umap-learn) (0.36.0)\n",
      "Requirement already satisfied: setuptools in c:\\users\\eobun\\anaconda3\\lib\\site-packages (from numba>=0.49->umap-learn) (52.0.0.post20210125)\n",
      "Requirement already satisfied: joblib>=0.11 in c:\\users\\eobun\\anaconda3\\lib\\site-packages (from pynndescent>=0.5->umap-learn) (1.0.1)\n",
      "Requirement already satisfied: threadpoolctl>=2.0.0 in c:\\users\\eobun\\anaconda3\\lib\\site-packages (from scikit-learn>=0.22->umap-learn) (2.1.0)\n"
     ]
    }
   ],
   "source": [
    "!pip install umap-learn"
   ]
  },
  {
   "cell_type": "code",
   "execution_count": 58,
   "metadata": {
    "executionInfo": {
     "elapsed": 2597,
     "status": "ok",
     "timestamp": 1636071547853,
     "user": {
      "displayName": "Emmanuel Obunadike",
      "photoUrl": "https://lh3.googleusercontent.com/a/default-user=s64",
      "userId": "00712408289414050638"
     },
     "user_tz": 240
    },
    "id": "p7pJcOsTWGE5"
   },
   "outputs": [],
   "source": [
    "%matplotlib inline\n",
    "import math\n",
    "import pandas as pd\n",
    "from pandas import DataFrame\n",
    "import numpy as np\n",
    "import seaborn as sns\n",
    "from matplotlib import pyplot as plt\n",
    "from scipy import stats\n",
    "from sklearn.preprocessing import StandardScaler, LabelEncoder\n",
    "#from mlxtend.plotting import plot_decision_regions\n",
    "from sklearn.metrics import  classification_report, confusion_matrix\n",
    "from sklearn.model_selection import train_test_split\n",
    "from scipy.cluster.hierarchy import dendrogram, linkage\n",
    "from sklearn.decomposition import PCA\n",
    "from sklearn.cluster import KMeans\n",
    "from sklearn.cluster import MiniBatchKMeans\n",
    "from sklearn.cluster import DBSCAN\n",
    "from sklearn.cluster import AgglomerativeClustering\n",
    "from sklearn.mixture import GaussianMixture\n",
    "from sklearn import datasets, metrics\n",
    "#import plotly.express as px\n",
    "\n",
    "import warnings"
   ]
  },
  {
   "cell_type": "code",
   "execution_count": 180,
   "metadata": {
    "executionInfo": {
     "elapsed": 1221,
     "status": "ok",
     "timestamp": 1636071550503,
     "user": {
      "displayName": "Emmanuel Obunadike",
      "photoUrl": "https://lh3.googleusercontent.com/a/default-user=s64",
      "userId": "00712408289414050638"
     },
     "user_tz": 240
    },
    "id": "hoquvCYiSwdm"
   },
   "outputs": [],
   "source": [
    "#read csv file\n",
    "df = pd.read_csv('Healthcare_Providers.csv')\n",
    "df = df[0:29999]"
   ]
  },
  {
   "cell_type": "markdown",
   "metadata": {},
   "source": [
    "## About the dataset"
   ]
  },
  {
   "cell_type": "code",
   "execution_count": 181,
   "metadata": {},
   "outputs": [
    {
     "name": "stdout",
     "output_type": "stream",
     "text": [
      "<class 'pandas.core.frame.DataFrame'>\n",
      "RangeIndex: 29999 entries, 0 to 29998\n",
      "Data columns (total 27 columns):\n",
      " #   Column                                                    Non-Null Count  Dtype  \n",
      "---  ------                                                    --------------  -----  \n",
      " 0   index                                                     29999 non-null  int64  \n",
      " 1   National Provider Identifier                              29999 non-null  int64  \n",
      " 2   Last Name/Organization Name of the Provider               29999 non-null  object \n",
      " 3   First Name of the Provider                                28726 non-null  object \n",
      " 4   Middle Initial of the Provider                            21238 non-null  object \n",
      " 5   Credentials of the Provider                               27817 non-null  object \n",
      " 6   Gender of the Provider                                    28726 non-null  object \n",
      " 7   Entity Type of the Provider                               29999 non-null  object \n",
      " 8   Street Address 1 of the Provider                          29999 non-null  object \n",
      " 9   Street Address 2 of the Provider                          12221 non-null  object \n",
      " 10  City of the Provider                                      29999 non-null  object \n",
      " 11  Zip Code of the Provider                                  29999 non-null  float64\n",
      " 12  State Code of the Provider                                29999 non-null  object \n",
      " 13  Country Code of the Provider                              29999 non-null  object \n",
      " 14  Provider Type                                             29999 non-null  object \n",
      " 15  Medicare Participation Indicator                          29999 non-null  object \n",
      " 16  Place of Service                                          29999 non-null  object \n",
      " 17  HCPCS Code                                                29999 non-null  object \n",
      " 18  HCPCS Description                                         29999 non-null  object \n",
      " 19  HCPCS Drug Indicator                                      29999 non-null  object \n",
      " 20  Number of Services                                        29999 non-null  object \n",
      " 21  Number of Medicare Beneficiaries                          29999 non-null  object \n",
      " 22  Number of Distinct Medicare Beneficiary/Per Day Services  29999 non-null  object \n",
      " 23  Average Medicare Allowed Amount                           29999 non-null  object \n",
      " 24  Average Submitted Charge Amount                           29999 non-null  object \n",
      " 25  Average Medicare Payment Amount                           29999 non-null  object \n",
      " 26  Average Medicare Standardized Amount                      29999 non-null  object \n",
      "dtypes: float64(1), int64(2), object(24)\n",
      "memory usage: 6.2+ MB\n"
     ]
    }
   ],
   "source": [
    "df.info()"
   ]
  },
  {
   "cell_type": "code",
   "execution_count": 182,
   "metadata": {
    "colab": {
     "base_uri": "https://localhost:8080/",
     "height": 427
    },
    "executionInfo": {
     "elapsed": 255,
     "status": "ok",
     "timestamp": 1636071551866,
     "user": {
      "displayName": "Emmanuel Obunadike",
      "photoUrl": "https://lh3.googleusercontent.com/a/default-user=s64",
      "userId": "00712408289414050638"
     },
     "user_tz": 240
    },
    "id": "JWj2ryk9S22z",
    "outputId": "3299e718-5c0d-4df4-cf76-2d82a5fcab61"
   },
   "outputs": [
    {
     "data": {
      "text/html": [
       "<div>\n",
       "<style scoped>\n",
       "    .dataframe tbody tr th:only-of-type {\n",
       "        vertical-align: middle;\n",
       "    }\n",
       "\n",
       "    .dataframe tbody tr th {\n",
       "        vertical-align: top;\n",
       "    }\n",
       "\n",
       "    .dataframe thead th {\n",
       "        text-align: right;\n",
       "    }\n",
       "</style>\n",
       "<table border=\"1\" class=\"dataframe\">\n",
       "  <thead>\n",
       "    <tr style=\"text-align: right;\">\n",
       "      <th></th>\n",
       "      <th>index</th>\n",
       "      <th>National Provider Identifier</th>\n",
       "      <th>Last Name/Organization Name of the Provider</th>\n",
       "      <th>First Name of the Provider</th>\n",
       "      <th>Middle Initial of the Provider</th>\n",
       "      <th>Credentials of the Provider</th>\n",
       "      <th>Gender of the Provider</th>\n",
       "      <th>Entity Type of the Provider</th>\n",
       "      <th>Street Address 1 of the Provider</th>\n",
       "      <th>Street Address 2 of the Provider</th>\n",
       "      <th>...</th>\n",
       "      <th>HCPCS Code</th>\n",
       "      <th>HCPCS Description</th>\n",
       "      <th>HCPCS Drug Indicator</th>\n",
       "      <th>Number of Services</th>\n",
       "      <th>Number of Medicare Beneficiaries</th>\n",
       "      <th>Number of Distinct Medicare Beneficiary/Per Day Services</th>\n",
       "      <th>Average Medicare Allowed Amount</th>\n",
       "      <th>Average Submitted Charge Amount</th>\n",
       "      <th>Average Medicare Payment Amount</th>\n",
       "      <th>Average Medicare Standardized Amount</th>\n",
       "    </tr>\n",
       "  </thead>\n",
       "  <tbody>\n",
       "    <tr>\n",
       "      <th>0</th>\n",
       "      <td>8774979</td>\n",
       "      <td>1891106191</td>\n",
       "      <td>UPADHYAYULA</td>\n",
       "      <td>SATYASREE</td>\n",
       "      <td>NaN</td>\n",
       "      <td>M.D.</td>\n",
       "      <td>F</td>\n",
       "      <td>I</td>\n",
       "      <td>1402 S GRAND BLVD</td>\n",
       "      <td>FDT 14TH FLOOR</td>\n",
       "      <td>...</td>\n",
       "      <td>99223</td>\n",
       "      <td>Initial hospital inpatient care, typically 70 ...</td>\n",
       "      <td>N</td>\n",
       "      <td>27</td>\n",
       "      <td>24</td>\n",
       "      <td>27</td>\n",
       "      <td>200.58777778</td>\n",
       "      <td>305.21111111</td>\n",
       "      <td>157.26222222</td>\n",
       "      <td>160.90888889</td>\n",
       "    </tr>\n",
       "    <tr>\n",
       "      <th>1</th>\n",
       "      <td>3354385</td>\n",
       "      <td>1346202256</td>\n",
       "      <td>JONES</td>\n",
       "      <td>WENDY</td>\n",
       "      <td>P</td>\n",
       "      <td>M.D.</td>\n",
       "      <td>F</td>\n",
       "      <td>I</td>\n",
       "      <td>2950 VILLAGE DR</td>\n",
       "      <td>NaN</td>\n",
       "      <td>...</td>\n",
       "      <td>G0202</td>\n",
       "      <td>Screening mammography, bilateral (2-view study...</td>\n",
       "      <td>N</td>\n",
       "      <td>175</td>\n",
       "      <td>175</td>\n",
       "      <td>175</td>\n",
       "      <td>123.73</td>\n",
       "      <td>548.8</td>\n",
       "      <td>118.83</td>\n",
       "      <td>135.31525714</td>\n",
       "    </tr>\n",
       "    <tr>\n",
       "      <th>2</th>\n",
       "      <td>3001884</td>\n",
       "      <td>1306820956</td>\n",
       "      <td>DUROCHER</td>\n",
       "      <td>RICHARD</td>\n",
       "      <td>W</td>\n",
       "      <td>DPM</td>\n",
       "      <td>M</td>\n",
       "      <td>I</td>\n",
       "      <td>20 WASHINGTON AVE</td>\n",
       "      <td>STE 212</td>\n",
       "      <td>...</td>\n",
       "      <td>99348</td>\n",
       "      <td>Established patient home visit, typically 25 m...</td>\n",
       "      <td>N</td>\n",
       "      <td>32</td>\n",
       "      <td>13</td>\n",
       "      <td>32</td>\n",
       "      <td>90.65</td>\n",
       "      <td>155</td>\n",
       "      <td>64.4396875</td>\n",
       "      <td>60.5959375</td>\n",
       "    </tr>\n",
       "  </tbody>\n",
       "</table>\n",
       "<p>3 rows × 27 columns</p>\n",
       "</div>"
      ],
      "text/plain": [
       "     index  National Provider Identifier  \\\n",
       "0  8774979                    1891106191   \n",
       "1  3354385                    1346202256   \n",
       "2  3001884                    1306820956   \n",
       "\n",
       "  Last Name/Organization Name of the Provider First Name of the Provider  \\\n",
       "0                                 UPADHYAYULA                  SATYASREE   \n",
       "1                                       JONES                      WENDY   \n",
       "2                                    DUROCHER                    RICHARD   \n",
       "\n",
       "  Middle Initial of the Provider Credentials of the Provider  \\\n",
       "0                            NaN                        M.D.   \n",
       "1                              P                        M.D.   \n",
       "2                              W                         DPM   \n",
       "\n",
       "  Gender of the Provider Entity Type of the Provider  \\\n",
       "0                      F                           I   \n",
       "1                      F                           I   \n",
       "2                      M                           I   \n",
       "\n",
       "  Street Address 1 of the Provider Street Address 2 of the Provider  ...  \\\n",
       "0                1402 S GRAND BLVD                   FDT 14TH FLOOR  ...   \n",
       "1                  2950 VILLAGE DR                              NaN  ...   \n",
       "2                20 WASHINGTON AVE                          STE 212  ...   \n",
       "\n",
       "  HCPCS Code                                  HCPCS Description  \\\n",
       "0      99223  Initial hospital inpatient care, typically 70 ...   \n",
       "1      G0202  Screening mammography, bilateral (2-view study...   \n",
       "2      99348  Established patient home visit, typically 25 m...   \n",
       "\n",
       "  HCPCS Drug Indicator Number of Services Number of Medicare Beneficiaries  \\\n",
       "0                    N                 27                               24   \n",
       "1                    N                175                              175   \n",
       "2                    N                 32                               13   \n",
       "\n",
       "  Number of Distinct Medicare Beneficiary/Per Day Services  \\\n",
       "0                                                 27         \n",
       "1                                                175         \n",
       "2                                                 32         \n",
       "\n",
       "  Average Medicare Allowed Amount Average Submitted Charge Amount  \\\n",
       "0                    200.58777778                    305.21111111   \n",
       "1                          123.73                           548.8   \n",
       "2                           90.65                             155   \n",
       "\n",
       "  Average Medicare Payment Amount Average Medicare Standardized Amount  \n",
       "0                    157.26222222                         160.90888889  \n",
       "1                          118.83                         135.31525714  \n",
       "2                      64.4396875                           60.5959375  \n",
       "\n",
       "[3 rows x 27 columns]"
      ]
     },
     "execution_count": 182,
     "metadata": {},
     "output_type": "execute_result"
    }
   ],
   "source": [
    "df.head(3)"
   ]
  },
  {
   "cell_type": "markdown",
   "metadata": {},
   "source": [
    "Contains a lot of unnecessary variables, of which I will drop and rename the rest in the proper format."
   ]
  },
  {
   "cell_type": "code",
   "execution_count": 183,
   "metadata": {
    "executionInfo": {
     "elapsed": 235,
     "status": "ok",
     "timestamp": 1636071555164,
     "user": {
      "displayName": "Emmanuel Obunadike",
      "photoUrl": "https://lh3.googleusercontent.com/a/default-user=s64",
      "userId": "00712408289414050638"
     },
     "user_tz": 240
    },
    "id": "gwOar_5pTWS-"
   },
   "outputs": [],
   "source": [
    "#drop unneeded columns\n",
    "df = df.drop(['index', 'National Provider Identifier',\n",
    "                 'Last Name/Organization Name of the Provider', \n",
    "                 'First Name of the Provider',\t'Middle Initial of the Provider',\n",
    "                 'Street Address 1 of the Provider',\t'Street Address 2 of the Provider',\n",
    "                  'Zip Code of the Provider', 'HCPCS Description'], axis=1)\n",
    "\n",
    "#rename columns\n",
    "df.rename(columns={'Credentials of the Provider':'Provider_Credentials','Gender of the Provider':'Gender',\n",
    "                    'Entity Type of the Provider':'Entity_Type', 'City of the Provider':'City',\n",
    "                    'State Code of the Provider':'State',\n",
    "                    'Country Code of the Provider':'Country_Code','Provider Type':'Practice_Type',\n",
    "                    'Medicare Participation Indicator':'Med_Participatn_Indicator',\n",
    "                    'Place of Service':'Place_of_Service','HCPCS Code':'HCPCS_Code',\n",
    "                    'HCPCS Drug Indicator':'HCPCS_Drug_Indicator', 'Number of Services':'Number_of_Services',\n",
    "                    'Number of Medicare Beneficiaries':'Number_of_Med_Ben', \n",
    "                    'Number of Distinct Medicare Beneficiary/Per Day Services':'Unique_Med_Ben_Per_Day_Services',\n",
    "                    'Average Medicare Allowed Amount':'Avg_Med_Allowed_Amnt',\n",
    "                    'Average Submitted Charge Amount':'Avg_Submtd_Charge_Amnt',\n",
    "                    'Average Medicare Payment Amount':'Avg_Med_Paymnt_Amnt',\n",
    "                    'Average Medicare Standardized Amount':'Avg_Med_Stndrdzd_Amnt'}, inplace=True)"
   ]
  },
  {
   "cell_type": "code",
   "execution_count": 184,
   "metadata": {
    "colab": {
     "base_uri": "https://localhost:8080/",
     "height": 259
    },
    "executionInfo": {
     "elapsed": 226,
     "status": "ok",
     "timestamp": 1635991244646,
     "user": {
      "displayName": "Emmanuel Obunadike",
      "photoUrl": "https://lh3.googleusercontent.com/a/default-user=s64",
      "userId": "00712408289414050638"
     },
     "user_tz": 240
    },
    "id": "Zyl8zPNRU2li",
    "outputId": "1e60625d-27a2-4e81-d8a2-ed5316960d51"
   },
   "outputs": [
    {
     "data": {
      "text/html": [
       "<div>\n",
       "<style scoped>\n",
       "    .dataframe tbody tr th:only-of-type {\n",
       "        vertical-align: middle;\n",
       "    }\n",
       "\n",
       "    .dataframe tbody tr th {\n",
       "        vertical-align: top;\n",
       "    }\n",
       "\n",
       "    .dataframe thead th {\n",
       "        text-align: right;\n",
       "    }\n",
       "</style>\n",
       "<table border=\"1\" class=\"dataframe\">\n",
       "  <thead>\n",
       "    <tr style=\"text-align: right;\">\n",
       "      <th></th>\n",
       "      <th>Provider_Credentials</th>\n",
       "      <th>Gender</th>\n",
       "      <th>Entity_Type</th>\n",
       "      <th>City</th>\n",
       "      <th>State</th>\n",
       "      <th>Country_Code</th>\n",
       "      <th>Practice_Type</th>\n",
       "      <th>Med_Participatn_Indicator</th>\n",
       "      <th>Place_of_Service</th>\n",
       "      <th>HCPCS_Code</th>\n",
       "      <th>HCPCS_Drug_Indicator</th>\n",
       "      <th>Number_of_Services</th>\n",
       "      <th>Number_of_Med_Ben</th>\n",
       "      <th>Unique_Med_Ben_Per_Day_Services</th>\n",
       "      <th>Avg_Med_Allowed_Amnt</th>\n",
       "      <th>Avg_Submtd_Charge_Amnt</th>\n",
       "      <th>Avg_Med_Paymnt_Amnt</th>\n",
       "      <th>Avg_Med_Stndrdzd_Amnt</th>\n",
       "    </tr>\n",
       "  </thead>\n",
       "  <tbody>\n",
       "    <tr>\n",
       "      <th>0</th>\n",
       "      <td>M.D.</td>\n",
       "      <td>F</td>\n",
       "      <td>I</td>\n",
       "      <td>SAINT LOUIS</td>\n",
       "      <td>MO</td>\n",
       "      <td>US</td>\n",
       "      <td>Internal Medicine</td>\n",
       "      <td>Y</td>\n",
       "      <td>F</td>\n",
       "      <td>99223</td>\n",
       "      <td>N</td>\n",
       "      <td>27</td>\n",
       "      <td>24</td>\n",
       "      <td>27</td>\n",
       "      <td>200.58777778</td>\n",
       "      <td>305.21111111</td>\n",
       "      <td>157.26222222</td>\n",
       "      <td>160.90888889</td>\n",
       "    </tr>\n",
       "    <tr>\n",
       "      <th>1</th>\n",
       "      <td>M.D.</td>\n",
       "      <td>F</td>\n",
       "      <td>I</td>\n",
       "      <td>FAYETTEVILLE</td>\n",
       "      <td>NC</td>\n",
       "      <td>US</td>\n",
       "      <td>Obstetrics &amp; Gynecology</td>\n",
       "      <td>Y</td>\n",
       "      <td>O</td>\n",
       "      <td>G0202</td>\n",
       "      <td>N</td>\n",
       "      <td>175</td>\n",
       "      <td>175</td>\n",
       "      <td>175</td>\n",
       "      <td>123.73</td>\n",
       "      <td>548.8</td>\n",
       "      <td>118.83</td>\n",
       "      <td>135.31525714</td>\n",
       "    </tr>\n",
       "    <tr>\n",
       "      <th>2</th>\n",
       "      <td>DPM</td>\n",
       "      <td>M</td>\n",
       "      <td>I</td>\n",
       "      <td>NORTH HAVEN</td>\n",
       "      <td>CT</td>\n",
       "      <td>US</td>\n",
       "      <td>Podiatry</td>\n",
       "      <td>Y</td>\n",
       "      <td>O</td>\n",
       "      <td>99348</td>\n",
       "      <td>N</td>\n",
       "      <td>32</td>\n",
       "      <td>13</td>\n",
       "      <td>32</td>\n",
       "      <td>90.65</td>\n",
       "      <td>155</td>\n",
       "      <td>64.4396875</td>\n",
       "      <td>60.5959375</td>\n",
       "    </tr>\n",
       "    <tr>\n",
       "      <th>3</th>\n",
       "      <td>MD</td>\n",
       "      <td>M</td>\n",
       "      <td>I</td>\n",
       "      <td>KANSAS CITY</td>\n",
       "      <td>MO</td>\n",
       "      <td>US</td>\n",
       "      <td>Internal Medicine</td>\n",
       "      <td>Y</td>\n",
       "      <td>O</td>\n",
       "      <td>81002</td>\n",
       "      <td>N</td>\n",
       "      <td>20</td>\n",
       "      <td>18</td>\n",
       "      <td>20</td>\n",
       "      <td>3.5</td>\n",
       "      <td>5</td>\n",
       "      <td>3.43</td>\n",
       "      <td>3.43</td>\n",
       "    </tr>\n",
       "  </tbody>\n",
       "</table>\n",
       "</div>"
      ],
      "text/plain": [
       "  Provider_Credentials Gender Entity_Type          City State Country_Code  \\\n",
       "0                 M.D.      F           I   SAINT LOUIS    MO           US   \n",
       "1                 M.D.      F           I  FAYETTEVILLE    NC           US   \n",
       "2                  DPM      M           I   NORTH HAVEN    CT           US   \n",
       "3                   MD      M           I   KANSAS CITY    MO           US   \n",
       "\n",
       "             Practice_Type Med_Participatn_Indicator Place_of_Service  \\\n",
       "0        Internal Medicine                         Y                F   \n",
       "1  Obstetrics & Gynecology                         Y                O   \n",
       "2                 Podiatry                         Y                O   \n",
       "3        Internal Medicine                         Y                O   \n",
       "\n",
       "  HCPCS_Code HCPCS_Drug_Indicator Number_of_Services Number_of_Med_Ben  \\\n",
       "0      99223                    N                 27                24   \n",
       "1      G0202                    N                175               175   \n",
       "2      99348                    N                 32                13   \n",
       "3      81002                    N                 20                18   \n",
       "\n",
       "  Unique_Med_Ben_Per_Day_Services Avg_Med_Allowed_Amnt Avg_Submtd_Charge_Amnt  \\\n",
       "0                              27         200.58777778           305.21111111   \n",
       "1                             175               123.73                  548.8   \n",
       "2                              32                90.65                    155   \n",
       "3                              20                  3.5                      5   \n",
       "\n",
       "  Avg_Med_Paymnt_Amnt Avg_Med_Stndrdzd_Amnt  \n",
       "0        157.26222222          160.90888889  \n",
       "1              118.83          135.31525714  \n",
       "2          64.4396875            60.5959375  \n",
       "3                3.43                  3.43  "
      ]
     },
     "execution_count": 184,
     "metadata": {},
     "output_type": "execute_result"
    }
   ],
   "source": [
    "df.head(4)"
   ]
  },
  {
   "cell_type": "markdown",
   "metadata": {},
   "source": [
    "Check for missing variables."
   ]
  },
  {
   "cell_type": "code",
   "execution_count": 58,
   "metadata": {
    "colab": {
     "base_uri": "https://localhost:8080/"
    },
    "executionInfo": {
     "elapsed": 197,
     "status": "ok",
     "timestamp": 1635376982716,
     "user": {
      "displayName": "Emmanuel Obunadike",
      "photoUrl": "https://lh3.googleusercontent.com/a/default-user=s64",
      "userId": "00712408289414050638"
     },
     "user_tz": 240
    },
    "id": "DJcnsUsNWWAM",
    "outputId": "65f0da50-eefc-4483-9745-79a681740a21"
   },
   "outputs": [
    {
     "name": "stdout",
     "output_type": "stream",
     "text": [
      "<class 'pandas.core.frame.DataFrame'>\n",
      "RangeIndex: 29999 entries, 0 to 29998\n",
      "Data columns (total 18 columns):\n",
      " #   Column                           Non-Null Count  Dtype \n",
      "---  ------                           --------------  ----- \n",
      " 0   Provider_Credentials             27817 non-null  object\n",
      " 1   Gender                           28726 non-null  object\n",
      " 2   Entity_Type                      29999 non-null  object\n",
      " 3   City                             29999 non-null  object\n",
      " 4   State                            29999 non-null  object\n",
      " 5   Country_Code                     29999 non-null  object\n",
      " 6   Practice_Type                    29999 non-null  object\n",
      " 7   Med_Participatn_Indicator        29999 non-null  object\n",
      " 8   Place_of_Service                 29999 non-null  object\n",
      " 9   HCPCS_Code                       29999 non-null  object\n",
      " 10  HCPCS_Drug_Indicator             29999 non-null  object\n",
      " 11  Number_of_Services               29999 non-null  object\n",
      " 12  Number_of_Med_Ben                29999 non-null  object\n",
      " 13  Unique_Med_Ben_Per_Day_Services  29999 non-null  object\n",
      " 14  Avg_Med_Allowed_Amnt             29999 non-null  object\n",
      " 15  Avg_Submtd_Charge_Amnt           29999 non-null  object\n",
      " 16  Avg_Med_Paymnt_Amnt              29999 non-null  object\n",
      " 17  Avg_Med_Stndrdzd_Amnt            29999 non-null  object\n",
      "dtypes: object(18)\n",
      "memory usage: 4.1+ MB\n"
     ]
    }
   ],
   "source": [
    "df.info()"
   ]
  },
  {
   "cell_type": "code",
   "execution_count": 85,
   "metadata": {
    "colab": {
     "base_uri": "https://localhost:8080/"
    },
    "executionInfo": {
     "elapsed": 270,
     "status": "ok",
     "timestamp": 1636030221251,
     "user": {
      "displayName": "Emmanuel Obunadike",
      "photoUrl": "https://lh3.googleusercontent.com/a/default-user=s64",
      "userId": "00712408289414050638"
     },
     "user_tz": 240
    },
    "id": "ivk4o6BCXbwS",
    "outputId": "6ca7cac8-e303-49ef-c31b-926fa6bd21da"
   },
   "outputs": [
    {
     "data": {
      "text/plain": [
       "Provider_Credentials               7.273576\n",
       "Gender                             4.243475\n",
       "Entity_Type                        0.000000\n",
       "City                               0.000000\n",
       "State                              0.000000\n",
       "Country_Code                       0.000000\n",
       "Practice_Type                      0.000000\n",
       "Med_Participatn_Indicator          0.000000\n",
       "Place_of_Service                   0.000000\n",
       "HCPCS_Code                         0.000000\n",
       "HCPCS_Drug_Indicator               0.000000\n",
       "Number_of_Services                 0.000000\n",
       "Number_of_Med_Ben                  0.000000\n",
       "Unique_Med_Ben_Per_Day_Services    0.000000\n",
       "Avg_Med_Allowed_Amnt               0.000000\n",
       "Avg_Submtd_Charge_Amnt             0.000000\n",
       "Avg_Med_Paymnt_Amnt                0.000000\n",
       "Avg_Med_Stndrdzd_Amnt              0.000000\n",
       "dtype: float64"
      ]
     },
     "execution_count": 85,
     "metadata": {},
     "output_type": "execute_result"
    }
   ],
   "source": [
    "df.isnull().sum()*100/df.shape[0]"
   ]
  },
  {
   "cell_type": "code",
   "execution_count": 8,
   "metadata": {
    "colab": {
     "base_uri": "https://localhost:8080/"
    },
    "executionInfo": {
     "elapsed": 228,
     "status": "ok",
     "timestamp": 1635374742558,
     "user": {
      "displayName": "Emmanuel Obunadike",
      "photoUrl": "https://lh3.googleusercontent.com/a/default-user=s64",
      "userId": "00712408289414050638"
     },
     "user_tz": 240
    },
    "id": "NHCEJtbboBzD",
    "outputId": "adecd323-c4dd-446c-e130-3576c941fed9"
   },
   "outputs": [
    {
     "name": "stdout",
     "output_type": "stream",
     "text": [
      "Unique values in column Provider_Credentials are: ['M.D.' 'DPM' 'MD' ... 'DNP FNP-BC' 'MRCP, MD' 'PT,DPTATC']\n",
      "Unique values in column Gender are: ['F' 'M' nan]\n",
      "Unique values in column Entity_Type are: ['I' 'O']\n",
      "Unique values in column City are: ['SAINT LOUIS' 'FAYETTEVILLE' 'NORTH HAVEN' ... 'SALIDA' 'PLATTSBURG'\n",
      " 'HOOPER BAY']\n",
      "Unique values in column State are: ['MO' 'NC' 'CT' 'FL' 'VA' 'CA' 'CO' 'PA' 'AZ' 'KY' 'DC' 'WA' 'TX' 'NJ'\n",
      " 'MD' 'LA' 'OH' 'NY' 'GU' 'IL' 'OK' 'SC' 'MA' 'GA' 'IN' 'ME' 'MT' 'WI'\n",
      " 'AL' 'OR' 'NH' 'KS' 'MI' 'ID' 'MS' 'MN' 'TN' 'IA' 'NE' 'AK' 'ZZ' 'VT'\n",
      " 'NV' 'AR' 'WV' 'HI' 'RI' 'SD' 'PR' 'UT' 'NM' 'ND' 'DE' 'WY' 'VI' 'AE'\n",
      " 'AP' 'AA']\n",
      "Unique values in column Country_Code are: ['US' 'JP' 'DE' 'TR']\n",
      "Unique values in column Practice_Type are: ['Internal Medicine' 'Obstetrics & Gynecology' 'Podiatry'\n",
      " 'Physical Therapist in Private Practice' 'Diagnostic Radiology'\n",
      " 'Family Practice' 'Clinical Laboratory' 'General Surgery'\n",
      " 'Pain Management' 'Physician Assistant' 'Cardiology' 'Anesthesiology'\n",
      " 'Gastroenterology' 'Psychiatry' 'Nurse Practitioner' 'General Practice'\n",
      " 'Certified Registered Nurse Anesthetist (CRNA)'\n",
      " 'Mass Immunizer Roster Biller' 'Critical Care (Intensivists)'\n",
      " 'Audiologist' 'Allergy/ Immunology' 'Clinical Cardiac Electrophysiology'\n",
      " 'Pulmonary Disease' 'Neurology' 'Orthopedic Surgery' 'Infectious Disease'\n",
      " 'Medical Oncology' 'Geriatric Medicine' 'Chiropractic'\n",
      " 'Emergency Medicine' 'Psychologist, Clinical' 'Interventional Cardiology'\n",
      " 'Dermatology' 'Ambulatory Surgical Center' 'Ophthalmology'\n",
      " 'Hematology-Oncology' 'Urology' 'Optometry' 'Vascular Surgery'\n",
      " 'Pathology' 'Thoracic Surgery' 'Nephrology'\n",
      " 'Physical Medicine and Rehabilitation' 'Neurosurgery'\n",
      " 'Ambulance Service Provider' 'Centralized Flu' 'Otolaryngology'\n",
      " 'Rheumatology' 'Cardiac Surgery'\n",
      " 'Independent Diagnostic Testing Facility (IDTF)' 'Hospitalist'\n",
      " 'Occupational Therapist in Private Practice' 'Radiation Oncology'\n",
      " 'Plastic and Reconstructive Surgery' 'Portable X-Ray Supplier'\n",
      " 'Endocrinology' 'Oral Surgery (Dentist only)'\n",
      " 'Interventional Pain Management' 'Hand Surgery' 'Nuclear Medicine'\n",
      " 'Hospice and Palliative Care' 'Maxillofacial Surgery' 'Hematology'\n",
      " 'Pediatric Medicine' 'Licensed Clinical Social Worker'\n",
      " 'Colorectal Surgery (Proctology)' 'Sleep Medicine'\n",
      " 'Interventional Radiology' 'Anesthesiology Assistant'\n",
      " 'Certified Clinical Nurse Specialist' 'All Other Suppliers'\n",
      " 'Gynecological Oncology' 'Sports Medicine' 'Surgical Oncology'\n",
      " 'Registered Dietitian or Nutrition Professional'\n",
      " 'Speech Language Pathologist' 'Addiction Medicine'\n",
      " 'Osteopathic Manipulative Medicine' 'Undefined Physician type'\n",
      " 'Public Health or Welfare Agency' 'Clinic or Group Practice'\n",
      " 'Preventive Medicine' 'Certified Nurse Midwife' 'Geriatric Psychiatry'\n",
      " 'Neuropsychiatry' 'Radiation Therapy Center' 'Pharmacy'\n",
      " 'Peripheral Vascular Disease'\n",
      " 'Advanced Heart Failure and Transplant Cardiology' 'Mammography Center']\n",
      "Unique values in column Med_Participatn_Indicator are: ['Y' 'N']\n",
      "Unique values in column Place_of_Service are: ['F' 'O']\n",
      "Unique values in column HCPCS_Code are: ['99223' 'G0202' '99348' ... '43247' '33530' '52001']\n",
      "Unique values in column HCPCS_Drug_Indicator are: ['N' 'Y']\n",
      "Unique values in column Number_of_Services are: ['27' '175' '32' ... '43,000' '1,815' '2,265']\n",
      "Unique values in column Number_of_Med_Ben are: ['24' '175' '13' ... '1,097' '923' '2,995']\n",
      "Unique values in column Unique_Med_Ben_Per_Day_Services are: ['27' '175' '32' ... '1,397' '1,815' '2,265']\n",
      "Unique values in column Avg_Med_Allowed_Amnt are: ['200.58777778' '123.73' '90.65' ... '0.655' '85.3725' '38.601052632']\n",
      "Unique values in column Avg_Submtd_Charge_Amnt are: ['305.21111111' '548.8' '155' ... '144.05147059' '109.54545455'\n",
      " '46.867572156']\n",
      "Unique values in column Avg_Med_Paymnt_Amnt are: ['157.26222222' '118.83' '64.4396875' ... '60.7255' '30.006176471'\n",
      " '29.736876061']\n",
      "Unique values in column Avg_Med_Stndrdzd_Amnt are: ['160.90888889' '135.31525714' '60.5959375' ... '62.2485' '37.040220588'\n",
      " '25.912139219']\n"
     ]
    }
   ],
   "source": [
    "#unique values of each column\n",
    "for column_name in df.columns:\n",
    "    print(\"Unique values in column {} are: {}\".format(column_name, df[column_name].unique()))"
   ]
  },
  {
   "cell_type": "code",
   "execution_count": 170,
   "metadata": {
    "executionInfo": {
     "elapsed": 1033,
     "status": "ok",
     "timestamp": 1636071565029,
     "user": {
      "displayName": "Emmanuel Obunadike",
      "photoUrl": "https://lh3.googleusercontent.com/a/default-user=s64",
      "userId": "00712408289414050638"
     },
     "user_tz": 240
    },
    "id": "L_EehJiq_j9j"
   },
   "outputs": [],
   "source": [
    "#convert dtypes from object to numeric (integers and floats)\n",
    "def remove_comma(x):\n",
    "  return x.replace(\",\", \"\")\n",
    "\n",
    "\n",
    "df['Number_of_Services'] = pd.to_numeric(df['Number_of_Services']\n",
    "                                           .apply(lambda x: remove_comma(x)), \n",
    "                                           errors='ignore', downcast='integer' )\n",
    "df['Number_of_Med_Ben'] = pd.to_numeric(df['Number_of_Med_Ben']\n",
    "                                           .apply(lambda x: remove_comma(x)), \n",
    "                                           errors='ignore', downcast='integer')\n",
    "df['Unique_Med_Ben_Per_Day_Services'] = pd.to_numeric(df['Unique_Med_Ben_Per_Day_Services']\n",
    "                                           .apply(lambda x: remove_comma(x)), \n",
    "                                           errors='ignore', downcast='integer')\n",
    "df['Avg_Med_Allowed_Amnt'] = pd.to_numeric(df['Avg_Med_Allowed_Amnt']\n",
    "                                           .apply(lambda x: remove_comma(x)), \n",
    "                                           errors='ignore', downcast='float')\n",
    "df['Avg_Submtd_Charge_Amnt'] = pd.to_numeric(df['Avg_Submtd_Charge_Amnt']\n",
    "                                           .apply(lambda x: remove_comma(x)), \n",
    "                                           errors='ignore', downcast='float')\n",
    "df['Avg_Med_Paymnt_Amnt'] = pd.to_numeric(df['Avg_Med_Paymnt_Amnt']\n",
    "                                           .apply(lambda x: remove_comma(x)), \n",
    "                                           errors='ignore', downcast='float')\n",
    "df['Avg_Med_Stndrdzd_Amnt'] = pd.to_numeric(df['Avg_Med_Stndrdzd_Amnt']\n",
    "                                           .apply(lambda x: remove_comma(x)), \n",
    "                                           errors='ignore', downcast='float')"
   ]
  },
  {
   "cell_type": "code",
   "execution_count": 10,
   "metadata": {
    "colab": {
     "base_uri": "https://localhost:8080/"
    },
    "executionInfo": {
     "elapsed": 269,
     "status": "ok",
     "timestamp": 1636071571427,
     "user": {
      "displayName": "Emmanuel Obunadike",
      "photoUrl": "https://lh3.googleusercontent.com/a/default-user=s64",
      "userId": "00712408289414050638"
     },
     "user_tz": 240
    },
    "id": "Q1auBif1Bkjs",
    "outputId": "c6cf3114-0c80-42ac-9c43-bdb8b2e3aa5e"
   },
   "outputs": [
    {
     "name": "stdout",
     "output_type": "stream",
     "text": [
      "<class 'pandas.core.frame.DataFrame'>\n",
      "RangeIndex: 100000 entries, 0 to 99999\n",
      "Data columns (total 18 columns):\n",
      " #   Column                           Non-Null Count   Dtype  \n",
      "---  ------                           --------------   -----  \n",
      " 0   Provider_Credentials             92791 non-null   object \n",
      " 1   Gender                           95746 non-null   object \n",
      " 2   Entity_Type                      100000 non-null  object \n",
      " 3   City                             100000 non-null  object \n",
      " 4   State                            100000 non-null  object \n",
      " 5   Country_Code                     100000 non-null  object \n",
      " 6   Practice_Type                    100000 non-null  object \n",
      " 7   Med_Participatn_Indicator        100000 non-null  object \n",
      " 8   Place_of_Service                 100000 non-null  object \n",
      " 9   HCPCS_Code                       100000 non-null  object \n",
      " 10  HCPCS_Drug_Indicator             100000 non-null  object \n",
      " 11  Number_of_Services               100000 non-null  float64\n",
      " 12  Number_of_Med_Ben                100000 non-null  int32  \n",
      " 13  Unique_Med_Ben_Per_Day_Services  100000 non-null  int32  \n",
      " 14  Avg_Med_Allowed_Amnt             100000 non-null  float32\n",
      " 15  Avg_Submtd_Charge_Amnt           100000 non-null  float32\n",
      " 16  Avg_Med_Paymnt_Amnt              100000 non-null  float32\n",
      " 17  Avg_Med_Stndrdzd_Amnt            100000 non-null  float32\n",
      "dtypes: float32(4), float64(1), int32(2), object(11)\n",
      "memory usage: 11.4+ MB\n"
     ]
    }
   ],
   "source": [
    "df.info()"
   ]
  },
  {
   "cell_type": "code",
   "execution_count": 185,
   "metadata": {
    "executionInfo": {
     "elapsed": 236,
     "status": "ok",
     "timestamp": 1636071575070,
     "user": {
      "displayName": "Emmanuel Obunadike",
      "photoUrl": "https://lh3.googleusercontent.com/a/default-user=s64",
      "userId": "00712408289414050638"
     },
     "user_tz": 240
    },
    "id": "ymKJ2QVyJRQU"
   },
   "outputs": [],
   "source": [
    "#define a function for preprocessing the data\n",
    "def Preprocessing(data):\n",
    "\n",
    "  #replace missing values with the mode value\n",
    "  data['Provider_Credentials'] = data['Provider_Credentials'].fillna(data['Provider_Credentials'].mode()[0])\n",
    "  data['Gender'] = data['Gender'].fillna(data['Gender'].mode()[0])\n",
    "\n",
    "  #binary encoding\n",
    "  data['Gender'] = data['Gender'].apply(lambda x: 1 if x=='F' else 0)\n",
    "  data['Entity_Type'] = data['Entity_Type'].apply(lambda x: 1 if x=='I' else 0)\n",
    "  data['Med_Participatn_Indicator'] = data['Med_Participatn_Indicator'].apply(lambda x: 1 if x=='Y' else 0)\n",
    "  data['Place_of_Service'] = data['Place_of_Service'].apply(lambda x: 1 if x=='F' else 0)\n",
    "  data['HCPCS_Drug_Indicator'] = data['HCPCS_Drug_Indicator'].apply(lambda x: 1 if x=='Y' else 0)\n",
    "\n",
    "  #converting to numerical using LabelEncoder\n",
    "  #columns to be converted to numerical\n",
    "  cols = data[['Provider_Credentials','City','State','Country_Code','Practice_Type','HCPCS_Code']]\n",
    "  \n",
    "  #fitting the LabelEncoder\n",
    "  for col in cols:\n",
    "    label_encoder = LabelEncoder()\n",
    "    data[col] = label_encoder.fit_transform(data[col])\n",
    "  \n",
    "  #scale\n",
    "  scaler = StandardScaler()\n",
    "  data_std = scaler.fit_transform(data)\n",
    "  data = pd.DataFrame(data_std, columns=data.columns)\n",
    "\n",
    "  return data"
   ]
  },
  {
   "cell_type": "markdown",
   "metadata": {
    "id": "m4wmpV1Afp6T"
   },
   "source": [
    "## Preprocessing"
   ]
  },
  {
   "cell_type": "code",
   "execution_count": 63,
   "metadata": {
    "colab": {
     "base_uri": "https://localhost:8080/",
     "height": 192
    },
    "executionInfo": {
     "elapsed": 813,
     "status": "ok",
     "timestamp": 1636071590044,
     "user": {
      "displayName": "Emmanuel Obunadike",
      "photoUrl": "https://lh3.googleusercontent.com/a/default-user=s64",
      "userId": "00712408289414050638"
     },
     "user_tz": 240
    },
    "id": "KOBfyVK-Nisw",
    "outputId": "00d8a585-4eb3-4654-d7d1-e0ef21a2bf12"
   },
   "outputs": [
    {
     "data": {
      "text/html": [
       "<div>\n",
       "<style scoped>\n",
       "    .dataframe tbody tr th:only-of-type {\n",
       "        vertical-align: middle;\n",
       "    }\n",
       "\n",
       "    .dataframe tbody tr th {\n",
       "        vertical-align: top;\n",
       "    }\n",
       "\n",
       "    .dataframe thead th {\n",
       "        text-align: right;\n",
       "    }\n",
       "</style>\n",
       "<table border=\"1\" class=\"dataframe\">\n",
       "  <thead>\n",
       "    <tr style=\"text-align: right;\">\n",
       "      <th></th>\n",
       "      <th>Provider_Credentials</th>\n",
       "      <th>Gender</th>\n",
       "      <th>Entity_Type</th>\n",
       "      <th>City</th>\n",
       "      <th>State</th>\n",
       "      <th>Country_Code</th>\n",
       "      <th>Practice_Type</th>\n",
       "      <th>Med_Participatn_Indicator</th>\n",
       "      <th>Place_of_Service</th>\n",
       "      <th>HCPCS_Code</th>\n",
       "      <th>HCPCS_Drug_Indicator</th>\n",
       "      <th>Number_of_Services</th>\n",
       "      <th>Number_of_Med_Ben</th>\n",
       "      <th>Unique_Med_Ben_Per_Day_Services</th>\n",
       "      <th>Avg_Med_Allowed_Amnt</th>\n",
       "      <th>Avg_Submtd_Charge_Amnt</th>\n",
       "      <th>Avg_Med_Paymnt_Amnt</th>\n",
       "      <th>Avg_Med_Stndrdzd_Amnt</th>\n",
       "    </tr>\n",
       "  </thead>\n",
       "  <tbody>\n",
       "    <tr>\n",
       "      <th>0</th>\n",
       "      <td>-0.488378</td>\n",
       "      <td>1.560617</td>\n",
       "      <td>0.210512</td>\n",
       "      <td>1.005377</td>\n",
       "      <td>-0.021800</td>\n",
       "      <td>0.009429</td>\n",
       "      <td>0.024980</td>\n",
       "      <td>0.017323</td>\n",
       "      <td>1.267594</td>\n",
       "      <td>0.799600</td>\n",
       "      <td>-0.25466</td>\n",
       "      <td>-0.098088</td>\n",
       "      <td>-0.087240</td>\n",
       "      <td>-0.108617</td>\n",
       "      <td>0.337538</td>\n",
       "      <td>-0.043409</td>\n",
       "      <td>0.351023</td>\n",
       "      <td>0.355140</td>\n",
       "    </tr>\n",
       "    <tr>\n",
       "      <th>1</th>\n",
       "      <td>-0.488378</td>\n",
       "      <td>1.560617</td>\n",
       "      <td>0.210512</td>\n",
       "      <td>-0.730372</td>\n",
       "      <td>0.174709</td>\n",
       "      <td>0.009429</td>\n",
       "      <td>0.677179</td>\n",
       "      <td>0.017323</td>\n",
       "      <td>-0.788896</td>\n",
       "      <td>1.011118</td>\n",
       "      <td>-0.25466</td>\n",
       "      <td>-0.029083</td>\n",
       "      <td>0.120910</td>\n",
       "      <td>0.034752</td>\n",
       "      <td>0.073201</td>\n",
       "      <td>0.169859</td>\n",
       "      <td>0.180592</td>\n",
       "      <td>0.244456</td>\n",
       "    </tr>\n",
       "    <tr>\n",
       "      <th>2</th>\n",
       "      <td>-1.284247</td>\n",
       "      <td>-0.640772</td>\n",
       "      <td>0.210512</td>\n",
       "      <td>0.482881</td>\n",
       "      <td>-1.266357</td>\n",
       "      <td>0.009429</td>\n",
       "      <td>1.429717</td>\n",
       "      <td>0.017323</td>\n",
       "      <td>-0.788896</td>\n",
       "      <td>0.885850</td>\n",
       "      <td>-0.25466</td>\n",
       "      <td>-0.095757</td>\n",
       "      <td>-0.102403</td>\n",
       "      <td>-0.103773</td>\n",
       "      <td>-0.040571</td>\n",
       "      <td>-0.174923</td>\n",
       "      <td>-0.060606</td>\n",
       "      <td>-0.078680</td>\n",
       "    </tr>\n",
       "    <tr>\n",
       "      <th>3</th>\n",
       "      <td>0.475848</td>\n",
       "      <td>-0.640772</td>\n",
       "      <td>0.210512</td>\n",
       "      <td>-0.197249</td>\n",
       "      <td>-0.021800</td>\n",
       "      <td>0.009429</td>\n",
       "      <td>0.024980</td>\n",
       "      <td>0.017323</td>\n",
       "      <td>-0.788896</td>\n",
       "      <td>-0.527010</td>\n",
       "      <td>-0.25466</td>\n",
       "      <td>-0.101352</td>\n",
       "      <td>-0.095511</td>\n",
       "      <td>-0.115398</td>\n",
       "      <td>-0.340306</td>\n",
       "      <td>-0.306251</td>\n",
       "      <td>-0.331159</td>\n",
       "      <td>-0.325903</td>\n",
       "    </tr>\n",
       "  </tbody>\n",
       "</table>\n",
       "</div>"
      ],
      "text/plain": [
       "   Provider_Credentials    Gender  Entity_Type      City     State  \\\n",
       "0             -0.488378  1.560617     0.210512  1.005377 -0.021800   \n",
       "1             -0.488378  1.560617     0.210512 -0.730372  0.174709   \n",
       "2             -1.284247 -0.640772     0.210512  0.482881 -1.266357   \n",
       "3              0.475848 -0.640772     0.210512 -0.197249 -0.021800   \n",
       "\n",
       "   Country_Code  Practice_Type  Med_Participatn_Indicator  Place_of_Service  \\\n",
       "0      0.009429       0.024980                   0.017323          1.267594   \n",
       "1      0.009429       0.677179                   0.017323         -0.788896   \n",
       "2      0.009429       1.429717                   0.017323         -0.788896   \n",
       "3      0.009429       0.024980                   0.017323         -0.788896   \n",
       "\n",
       "   HCPCS_Code  HCPCS_Drug_Indicator  Number_of_Services  Number_of_Med_Ben  \\\n",
       "0    0.799600              -0.25466           -0.098088          -0.087240   \n",
       "1    1.011118              -0.25466           -0.029083           0.120910   \n",
       "2    0.885850              -0.25466           -0.095757          -0.102403   \n",
       "3   -0.527010              -0.25466           -0.101352          -0.095511   \n",
       "\n",
       "   Unique_Med_Ben_Per_Day_Services  Avg_Med_Allowed_Amnt  \\\n",
       "0                        -0.108617              0.337538   \n",
       "1                         0.034752              0.073201   \n",
       "2                        -0.103773             -0.040571   \n",
       "3                        -0.115398             -0.340306   \n",
       "\n",
       "   Avg_Submtd_Charge_Amnt  Avg_Med_Paymnt_Amnt  Avg_Med_Stndrdzd_Amnt  \n",
       "0               -0.043409             0.351023               0.355140  \n",
       "1                0.169859             0.180592               0.244456  \n",
       "2               -0.174923            -0.060606              -0.078680  \n",
       "3               -0.306251            -0.331159              -0.325903  "
      ]
     },
     "execution_count": 63,
     "metadata": {},
     "output_type": "execute_result"
    }
   ],
   "source": [
    "df_proccesed = Preprocessing(df)\n",
    "df_proccesed.head(4)"
   ]
  },
  {
   "cell_type": "code",
   "execution_count": 12,
   "metadata": {
    "colab": {
     "base_uri": "https://localhost:8080/"
    },
    "executionInfo": {
     "elapsed": 255,
     "status": "ok",
     "timestamp": 1636070865485,
     "user": {
      "displayName": "Emmanuel Obunadike",
      "photoUrl": "https://lh3.googleusercontent.com/a/default-user=s64",
      "userId": "00712408289414050638"
     },
     "user_tz": 240
    },
    "id": "fxkvtw8AgumN",
    "outputId": "3e7d2cf0-1e3a-428e-87ee-4412cafccb5d"
   },
   "outputs": [
    {
     "data": {
      "text/plain": [
       "(29999, 18)"
      ]
     },
     "execution_count": 12,
     "metadata": {},
     "output_type": "execute_result"
    }
   ],
   "source": [
    "df_proccesed.shape"
   ]
  },
  {
   "cell_type": "code",
   "execution_count": 126,
   "metadata": {
    "executionInfo": {
     "elapsed": 271,
     "status": "ok",
     "timestamp": 1636071597773,
     "user": {
      "displayName": "Emmanuel Obunadike",
      "photoUrl": "https://lh3.googleusercontent.com/a/default-user=s64",
      "userId": "00712408289414050638"
     },
     "user_tz": 240
    },
    "id": "8tIGcAbTquSd"
   },
   "outputs": [],
   "source": [
    "#drop unneeded columns Kmeans to reduce dimensions for clustering algorithm\n",
    "df2 = df_proccesed.copy()"
   ]
  },
  {
   "cell_type": "code",
   "execution_count": 127,
   "metadata": {
    "executionInfo": {
     "elapsed": 239,
     "status": "ok",
     "timestamp": 1636071600868,
     "user": {
      "displayName": "Emmanuel Obunadike",
      "photoUrl": "https://lh3.googleusercontent.com/a/default-user=s64",
      "userId": "00712408289414050638"
     },
     "user_tz": 240
    },
    "id": "peld7rHl-8gx"
   },
   "outputs": [
    {
     "data": {
      "text/html": [
       "<div>\n",
       "<style scoped>\n",
       "    .dataframe tbody tr th:only-of-type {\n",
       "        vertical-align: middle;\n",
       "    }\n",
       "\n",
       "    .dataframe tbody tr th {\n",
       "        vertical-align: top;\n",
       "    }\n",
       "\n",
       "    .dataframe thead th {\n",
       "        text-align: right;\n",
       "    }\n",
       "</style>\n",
       "<table border=\"1\" class=\"dataframe\">\n",
       "  <thead>\n",
       "    <tr style=\"text-align: right;\">\n",
       "      <th></th>\n",
       "      <th>Med_Participatn_Indicator</th>\n",
       "      <th>HCPCS_Drug_Indicator</th>\n",
       "      <th>Number_of_Services</th>\n",
       "      <th>Number_of_Med_Ben</th>\n",
       "      <th>Unique_Med_Ben_Per_Day_Services</th>\n",
       "      <th>Avg_Med_Allowed_Amnt</th>\n",
       "      <th>Avg_Submtd_Charge_Amnt</th>\n",
       "      <th>Avg_Med_Paymnt_Amnt</th>\n",
       "      <th>Avg_Med_Stndrdzd_Amnt</th>\n",
       "    </tr>\n",
       "  </thead>\n",
       "  <tbody>\n",
       "    <tr>\n",
       "      <th>0</th>\n",
       "      <td>0.017323</td>\n",
       "      <td>-0.25466</td>\n",
       "      <td>-0.098088</td>\n",
       "      <td>-0.087240</td>\n",
       "      <td>-0.108617</td>\n",
       "      <td>0.337538</td>\n",
       "      <td>-0.043409</td>\n",
       "      <td>0.351023</td>\n",
       "      <td>0.355140</td>\n",
       "    </tr>\n",
       "    <tr>\n",
       "      <th>1</th>\n",
       "      <td>0.017323</td>\n",
       "      <td>-0.25466</td>\n",
       "      <td>-0.029083</td>\n",
       "      <td>0.120910</td>\n",
       "      <td>0.034752</td>\n",
       "      <td>0.073201</td>\n",
       "      <td>0.169859</td>\n",
       "      <td>0.180592</td>\n",
       "      <td>0.244456</td>\n",
       "    </tr>\n",
       "    <tr>\n",
       "      <th>2</th>\n",
       "      <td>0.017323</td>\n",
       "      <td>-0.25466</td>\n",
       "      <td>-0.095757</td>\n",
       "      <td>-0.102403</td>\n",
       "      <td>-0.103773</td>\n",
       "      <td>-0.040571</td>\n",
       "      <td>-0.174923</td>\n",
       "      <td>-0.060606</td>\n",
       "      <td>-0.078680</td>\n",
       "    </tr>\n",
       "    <tr>\n",
       "      <th>3</th>\n",
       "      <td>0.017323</td>\n",
       "      <td>-0.25466</td>\n",
       "      <td>-0.101352</td>\n",
       "      <td>-0.095511</td>\n",
       "      <td>-0.115398</td>\n",
       "      <td>-0.340306</td>\n",
       "      <td>-0.306251</td>\n",
       "      <td>-0.331159</td>\n",
       "      <td>-0.325903</td>\n",
       "    </tr>\n",
       "    <tr>\n",
       "      <th>4</th>\n",
       "      <td>0.017323</td>\n",
       "      <td>-0.25466</td>\n",
       "      <td>-0.095291</td>\n",
       "      <td>-0.087240</td>\n",
       "      <td>-0.104742</td>\n",
       "      <td>-0.261133</td>\n",
       "      <td>-0.275608</td>\n",
       "      <td>-0.259720</td>\n",
       "      <td>-0.258319</td>\n",
       "    </tr>\n",
       "  </tbody>\n",
       "</table>\n",
       "</div>"
      ],
      "text/plain": [
       "   Med_Participatn_Indicator  HCPCS_Drug_Indicator  Number_of_Services  \\\n",
       "0                   0.017323              -0.25466           -0.098088   \n",
       "1                   0.017323              -0.25466           -0.029083   \n",
       "2                   0.017323              -0.25466           -0.095757   \n",
       "3                   0.017323              -0.25466           -0.101352   \n",
       "4                   0.017323              -0.25466           -0.095291   \n",
       "\n",
       "   Number_of_Med_Ben  Unique_Med_Ben_Per_Day_Services  Avg_Med_Allowed_Amnt  \\\n",
       "0          -0.087240                        -0.108617              0.337538   \n",
       "1           0.120910                         0.034752              0.073201   \n",
       "2          -0.102403                        -0.103773             -0.040571   \n",
       "3          -0.095511                        -0.115398             -0.340306   \n",
       "4          -0.087240                        -0.104742             -0.261133   \n",
       "\n",
       "   Avg_Submtd_Charge_Amnt  Avg_Med_Paymnt_Amnt  Avg_Med_Stndrdzd_Amnt  \n",
       "0               -0.043409             0.351023               0.355140  \n",
       "1                0.169859             0.180592               0.244456  \n",
       "2               -0.174923            -0.060606              -0.078680  \n",
       "3               -0.306251            -0.331159              -0.325903  \n",
       "4               -0.275608            -0.259720              -0.258319  "
      ]
     },
     "execution_count": 127,
     "metadata": {},
     "output_type": "execute_result"
    }
   ],
   "source": [
    "#drop some more unenecassary variables \n",
    "df2 = df2.drop(['Provider_Credentials', 'Gender', 'Entity_Type', 'City','State',\n",
    "                 'Country_Code', 'Practice_Type', 'HCPCS_Code' , \n",
    "                 'Place_of_Service'], axis=1) #, 'Unique_Med_Ben_Per_Day_Services''HCPCS_Drug_Indicator', \n",
    "                 #'Number_of_Services', 'Number_of_Med_Ben', 'Med_Participatn_Indicator',\n",
    "\n",
    "df2.head(5)"
   ]
  },
  {
   "cell_type": "markdown",
   "metadata": {},
   "source": [
    "*******************************************************************************************************************************"
   ]
  },
  {
   "cell_type": "markdown",
   "metadata": {},
   "source": [
    "# Clustering"
   ]
  },
  {
   "cell_type": "markdown",
   "metadata": {
    "id": "CsIU1iGkjtFG"
   },
   "source": [
    "## **1. K-Means**"
   ]
  },
  {
   "cell_type": "code",
   "execution_count": 159,
   "metadata": {},
   "outputs": [],
   "source": [
    "#choosing number of clusters by applying the elbow method\n",
    "\n",
    "#max number of clusters\n",
    "max_cluster = 21\n",
    "\n",
    "#test K-Means cluster\n",
    "kmeans_test = [KMeans(n_clusters=i, n_init=10) for i in range(1, max_cluster)]\n",
    "inertias = [kmeans_test[i].fit(df2).inertia_ for i in range(len(kmeans_test))]"
   ]
  },
  {
   "cell_type": "code",
   "execution_count": 160,
   "metadata": {
    "colab": {
     "base_uri": "https://localhost:8080/",
     "height": 350
    },
    "executionInfo": {
     "elapsed": 253,
     "status": "ok",
     "timestamp": 1635705038109,
     "user": {
      "displayName": "Emmanuel Obunadike",
      "photoUrl": "https://lh3.googleusercontent.com/a/default-user=s64",
      "userId": "00712408289414050638"
     },
     "user_tz": 240
    },
    "id": "11BNijlJicfp",
    "outputId": "12c9a94b-9ea5-47d8-dc7d-3c5639dee749"
   },
   "outputs": [
    {
     "data": {
      "image/png": "[encoded data removed]",
      "text/plain": [
       "<Figure size 720x360 with 1 Axes>"
      ]
     },
     "metadata": {
      "needs_background": "light"
     },
     "output_type": "display_data"
    }
   ],
   "source": [
    "#Plotting the elbow graph to select the ideal number of clusters\n",
    "plt.figure(figsize=(10,5))\n",
    "plt.plot(range(1, max_cluster), inertias)\n",
    "plt.xlabel('Number of Clusters')\n",
    "plt.ylabel('Inertia')\n",
    "plt.grid()\n",
    "plt.title('Selecting the number of clusters')\n",
    "plt.show()"
   ]
  },
  {
   "cell_type": "markdown",
   "metadata": {},
   "source": [
    "From the elbow of the plot, I will choose 6 clusters for the KMeans."
   ]
  },
  {
   "cell_type": "code",
   "execution_count": 163,
   "metadata": {
    "colab": {
     "base_uri": "https://localhost:8080/"
    },
    "executionInfo": {
     "elapsed": 7955,
     "status": "ok",
     "timestamp": 1635705107272,
     "user": {
      "displayName": "Emmanuel Obunadike",
      "photoUrl": "https://lh3.googleusercontent.com/a/default-user=s64",
      "userId": "00712408289414050638"
     },
     "user_tz": 240
    },
    "id": "nHrf20NPk2Fs",
    "outputId": "9860bf85-af5b-46ab-807b-3a7dd93c78cf"
   },
   "outputs": [
    {
     "name": "stdout",
     "output_type": "stream",
     "text": [
      "There are 6 clusters. They are: {0, 1, 2, 3, 4, 5}\n"
     ]
    }
   ],
   "source": [
    "#K-Means cluster using n_cluster = 10\n",
    "kmeans = KMeans(n_clusters=6, n_init=10, random_state=123).fit(df2)\n",
    "\n",
    "#label clusters\n",
    "kmeans_labels = kmeans.labels_\n",
    "\n",
    "print('There are {} clusters. They are: {}'.format(len(set(kmeans_labels)),set(kmeans_labels)))"
   ]
  },
  {
   "cell_type": "code",
   "execution_count": 164,
   "metadata": {
    "executionInfo": {
     "elapsed": 510,
     "status": "ok",
     "timestamp": 1635707157032,
     "user": {
      "displayName": "Emmanuel Obunadike",
      "photoUrl": "https://lh3.googleusercontent.com/a/default-user=s64",
      "userId": "00712408289414050638"
     },
     "user_tz": 240
    },
    "id": "ZmGtb0lxRYEM"
   },
   "outputs": [
    {
     "data": {
      "image/png": "[encoded data removed]",
      "text/plain": [
       "<Figure size 864x576 with 1 Axes>"
      ]
     },
     "metadata": {
      "needs_background": "light"
     },
     "output_type": "display_data"
    }
   ],
   "source": [
    "#dimensionality reduction with PCA to 2 components\n",
    "pca = PCA(n_components=2, random_state = 123).fit_transform(df2)\n",
    "\n",
    "#make dataframe for PC\n",
    "pca_df = pd.DataFrame(pca, columns=['PC1', 'PC2'])\n",
    "pca_df['cluster'] = kmeans_labels\n",
    "\n",
    "plt.figure(figsize=(12,8))\n",
    "plt.scatter(pca_df['PC1'], pca_df['PC2'], alpha = .6, c=kmeans_labels)\n",
    "plt.title('Sample Distribution on First 2 PCs by Class Color')\n",
    "plt.show()"
   ]
  },
  {
   "cell_type": "code",
   "execution_count": 167,
   "metadata": {},
   "outputs": [
    {
     "name": "stdout",
     "output_type": "stream",
     "text": [
      "The silhouette score of the KMeans solution: 0.8244292281733173\n"
     ]
    }
   ],
   "source": [
    "#Calculate the silhouette score\n",
    "print(\"The silhouette score of the KMeans solution: {}\"\n",
    "      .format(metrics.silhouette_score(df2, kmeans_labels, metric='euclidean')))"
   ]
  },
  {
   "cell_type": "markdown",
   "metadata": {},
   "source": [
    "## **DBSCAN Clustering**"
   ]
  },
  {
   "cell_type": "code",
   "execution_count": 157,
   "metadata": {},
   "outputs": [
    {
     "name": "stdout",
     "output_type": "stream",
     "text": [
      "There are 6 clusters. They are: {0, 1, 2, 3, 4, -1}\n"
     ]
    }
   ],
   "source": [
    "# Defining the agglomerative clustering\n",
    "dbscan_cluster = DBSCAN(eps=1, min_samples=5).fit(df2)\n",
    "\n",
    "#assign labels to the cluster\n",
    "cluster = dbscan_cluster.labels_\n",
    "\n",
    "print('There are {} clusters. They are: {}'.format(len(set(cluster)),set(cluster)))"
   ]
  },
  {
   "cell_type": "code",
   "execution_count": 158,
   "metadata": {},
   "outputs": [
    {
     "data": {
      "image/png": "[encoded data removed]",
      "text/plain": [
       "<Figure size 864x576 with 1 Axes>"
      ]
     },
     "metadata": {
      "needs_background": "light"
     },
     "output_type": "display_data"
    }
   ],
   "source": [
    "pca = PCA(n_components=2).fit_transform(df2)\n",
    "pca = pd.DataFrame(pca)\n",
    "pca.columns = ['pc1', 'pc2']\n",
    "\n",
    "plt.figure(figsize=(12,8))\n",
    "plt.title('Sample Distribution on First 2 PCs by Class Color')\n",
    "plt.scatter(pca['pc1'], pca['pc2'], alpha = .6, c=cluster)\n",
    "plt.xlabel('pc1')\n",
    "plt.ylabel('pc2')\n",
    "plt.show()"
   ]
  },
  {
   "cell_type": "code",
   "execution_count": 134,
   "metadata": {},
   "outputs": [
    {
     "name": "stdout",
     "output_type": "stream",
     "text": [
      "The silhouette score of the DBSCAN solution: 0.799904016462423\n"
     ]
    }
   ],
   "source": [
    "#Calculate the silhouette score\n",
    "print(\"The silhouette score of the DBSCAN solution: {}\"\n",
    "      .format(metrics.silhouette_score(df2, cluster, metric='euclidean')))"
   ]
  },
  {
   "cell_type": "markdown",
   "metadata": {},
   "source": [
    "## Agglomerative Clustering"
   ]
  },
  {
   "cell_type": "code",
   "execution_count": 135,
   "metadata": {},
   "outputs": [
    {
     "name": "stdout",
     "output_type": "stream",
     "text": [
      "There are 3 clusters. They are: {0, 1, 2}\n"
     ]
    }
   ],
   "source": [
    "# Defining the agglomerative clustering and Fitting model\n",
    "agg_cluster = AgglomerativeClustering(linkage='complete', \n",
    "                                      affinity='cosine',\n",
    "                                      n_clusters=3).fit(df2)\n",
    "#get label\n",
    "agg_cluster_labels = agg_cluster.labels_\n",
    "\n",
    "print('There are {} clusters. They are: {}'.format(len(set(agg_cluster_labels)),set(agg_cluster_labels)))"
   ]
  },
  {
   "cell_type": "code",
   "execution_count": 136,
   "metadata": {},
   "outputs": [
    {
     "data": {
      "image/png": "[encoded data removed]",
      "text/plain": [
       "<Figure size 864x576 with 1 Axes>"
      ]
     },
     "metadata": {
      "needs_background": "light"
     },
     "output_type": "display_data"
    }
   ],
   "source": [
    "pca = PCA(n_components=2).fit_transform(df2)\n",
    "pca = pd.DataFrame(pca)\n",
    "pca.columns = ['pc1', 'pc2']\n",
    "\n",
    "plt.figure(figsize=(12,8))\n",
    "plt.title('Sample Distribution on First 2 PCs by Class Color')\n",
    "plt.scatter(pca['pc1'], pca['pc2'], alpha = .6, c=agg_cluster_labels)\n",
    "plt.xlabel('pc1')\n",
    "plt.ylabel('pc2')\n",
    "plt.show()"
   ]
  },
  {
   "cell_type": "code",
   "execution_count": 138,
   "metadata": {},
   "outputs": [
    {
     "name": "stdout",
     "output_type": "stream",
     "text": [
      "The silhouette score of the Agglomerative clustering solution: 0.5080214164291569\n"
     ]
    }
   ],
   "source": [
    "#Calculate the silhouette score\n",
    "print(\"The silhouette score of the Agglomerative clustering solution: {}\"\n",
    "      .format(metrics.silhouette_score(df2, agg_cluster_labels, metric='euclidean')))"
   ]
  },
  {
   "cell_type": "markdown",
   "metadata": {},
   "source": [
    "## Gaussian Mixture Models (GMM)"
   ]
  },
  {
   "cell_type": "code",
   "execution_count": 173,
   "metadata": {},
   "outputs": [
    {
     "name": "stdout",
     "output_type": "stream",
     "text": [
      "There are 6 clusters. They are: {0, 1, 2, 3, 4, 5}\n"
     ]
    }
   ],
   "source": [
    "# Defining the GMM clustering\n",
    "gmm = GaussianMixture(n_components=6, random_state=123).fit(df2)\n",
    "\n",
    "#label clusters\n",
    "gmm_cluster = gmm.predict(df2)\n",
    "\n",
    "print('There are {} clusters. They are: {}'.format(len(set(gmm_cluster)),set(gmm_cluster)))"
   ]
  },
  {
   "cell_type": "code",
   "execution_count": 174,
   "metadata": {},
   "outputs": [
    {
     "data": {
      "image/png": "[encoded data removed]",
      "text/plain": [
       "<Figure size 864x576 with 1 Axes>"
      ]
     },
     "metadata": {
      "needs_background": "light"
     },
     "output_type": "display_data"
    }
   ],
   "source": [
    "pca = PCA(n_components=2).fit_transform(df2)\n",
    "pca = pd.DataFrame(pca)\n",
    "pca.columns = ['pc1', 'pc2']\n",
    "\n",
    "plt.figure(figsize=(12,8))\n",
    "plt.title('Sample Distribution on First 2 PCs by Class Color')\n",
    "plt.scatter(pca['pc1'], pca['pc2'], alpha = .6, c=gmm_cluster)\n",
    "plt.xlabel('pc1')\n",
    "plt.ylabel('pc2')\n",
    "plt.show()"
   ]
  },
  {
   "cell_type": "code",
   "execution_count": 175,
   "metadata": {},
   "outputs": [
    {
     "name": "stdout",
     "output_type": "stream",
     "text": [
      "The silhouette score of the GMM solution: 0.38555690689805794\n"
     ]
    }
   ],
   "source": [
    "#Calculate the silhouette score\n",
    "print(\"The silhouette score of the GMM solution: {}\"\n",
    "      .format(metrics.silhouette_score(df2, gmm_cluster, metric='euclidean')))"
   ]
  },
  {
   "cell_type": "markdown",
   "metadata": {},
   "source": [
    "_______________________________________________________________________________________________________________________________"
   ]
  },
  {
   "cell_type": "markdown",
   "metadata": {},
   "source": [
    "## Evaluating the Clusters"
   ]
  },
  {
   "cell_type": "markdown",
   "metadata": {},
   "source": [
    "Kmeans => 6 Clusters, 0.824 silhouette score\n",
    "\n",
    "DBSCAN => 6 Clusters, 0.800 silhouette score\n",
    "\n",
    "Agglomerative => 3 Clusters, 0.508 silhouette score\n",
    "\n",
    "GMM => 6 Clusters, 0.386 silhouette score\n",
    "\n",
    "Looking at the silhouette scores, KMeans had the highest score of 0.824 for 6 clusters. GMM clustering performed the worst with a score of 0.386 with 6 clusters."
   ]
  },
  {
   "cell_type": "markdown",
   "metadata": {},
   "source": [
    "I will go with Kmeans cluster, since it had the best silhouette score."
   ]
  },
  {
   "cell_type": "markdown",
   "metadata": {},
   "source": [
    "_______________________________________________________________________________________________________________________________"
   ]
  },
  {
   "cell_type": "code",
   "execution_count": 171,
   "metadata": {},
   "outputs": [],
   "source": [
    "#add the cluster assignments to the original dataframe\n",
    "df['Clusters'] = kmeans_labels"
   ]
  },
  {
   "cell_type": "code",
   "execution_count": 50,
   "metadata": {
    "scrolled": true
   },
   "outputs": [
    {
     "data": {
      "text/html": [
       "<div>\n",
       "<style scoped>\n",
       "    .dataframe tbody tr th:only-of-type {\n",
       "        vertical-align: middle;\n",
       "    }\n",
       "\n",
       "    .dataframe tbody tr th {\n",
       "        vertical-align: top;\n",
       "    }\n",
       "\n",
       "    .dataframe thead th {\n",
       "        text-align: right;\n",
       "    }\n",
       "</style>\n",
       "<table border=\"1\" class=\"dataframe\">\n",
       "  <thead>\n",
       "    <tr style=\"text-align: right;\">\n",
       "      <th></th>\n",
       "      <th>Provider_Credentials</th>\n",
       "      <th>Gender</th>\n",
       "      <th>Entity_Type</th>\n",
       "      <th>City</th>\n",
       "      <th>State</th>\n",
       "      <th>Country_Code</th>\n",
       "      <th>Practice_Type</th>\n",
       "      <th>Med_Participatn_Indicator</th>\n",
       "      <th>Place_of_Service</th>\n",
       "      <th>HCPCS_Code</th>\n",
       "      <th>HCPCS_Drug_Indicator</th>\n",
       "      <th>Number_of_Services</th>\n",
       "      <th>Number_of_Med_Ben</th>\n",
       "      <th>Unique_Med_Ben_Per_Day_Services</th>\n",
       "      <th>Avg_Med_Allowed_Amnt</th>\n",
       "      <th>Avg_Submtd_Charge_Amnt</th>\n",
       "      <th>Avg_Med_Paymnt_Amnt</th>\n",
       "      <th>Avg_Med_Stndrdzd_Amnt</th>\n",
       "      <th>Clusters</th>\n",
       "    </tr>\n",
       "  </thead>\n",
       "  <tbody>\n",
       "    <tr>\n",
       "      <th>0</th>\n",
       "      <td>M.D.</td>\n",
       "      <td>F</td>\n",
       "      <td>I</td>\n",
       "      <td>SAINT LOUIS</td>\n",
       "      <td>MO</td>\n",
       "      <td>US</td>\n",
       "      <td>Internal Medicine</td>\n",
       "      <td>Y</td>\n",
       "      <td>F</td>\n",
       "      <td>99223</td>\n",
       "      <td>N</td>\n",
       "      <td>27.0</td>\n",
       "      <td>24</td>\n",
       "      <td>27</td>\n",
       "      <td>200.587784</td>\n",
       "      <td>305.211121</td>\n",
       "      <td>157.262222</td>\n",
       "      <td>160.908890</td>\n",
       "      <td>0</td>\n",
       "    </tr>\n",
       "    <tr>\n",
       "      <th>1</th>\n",
       "      <td>M.D.</td>\n",
       "      <td>F</td>\n",
       "      <td>I</td>\n",
       "      <td>FAYETTEVILLE</td>\n",
       "      <td>NC</td>\n",
       "      <td>US</td>\n",
       "      <td>Obstetrics &amp; Gynecology</td>\n",
       "      <td>Y</td>\n",
       "      <td>O</td>\n",
       "      <td>G0202</td>\n",
       "      <td>N</td>\n",
       "      <td>175.0</td>\n",
       "      <td>175</td>\n",
       "      <td>175</td>\n",
       "      <td>123.730003</td>\n",
       "      <td>548.799988</td>\n",
       "      <td>118.830002</td>\n",
       "      <td>135.315262</td>\n",
       "      <td>0</td>\n",
       "    </tr>\n",
       "    <tr>\n",
       "      <th>2</th>\n",
       "      <td>DPM</td>\n",
       "      <td>M</td>\n",
       "      <td>I</td>\n",
       "      <td>NORTH HAVEN</td>\n",
       "      <td>CT</td>\n",
       "      <td>US</td>\n",
       "      <td>Podiatry</td>\n",
       "      <td>Y</td>\n",
       "      <td>O</td>\n",
       "      <td>99348</td>\n",
       "      <td>N</td>\n",
       "      <td>32.0</td>\n",
       "      <td>13</td>\n",
       "      <td>32</td>\n",
       "      <td>90.650002</td>\n",
       "      <td>155.000000</td>\n",
       "      <td>64.439690</td>\n",
       "      <td>60.595936</td>\n",
       "      <td>0</td>\n",
       "    </tr>\n",
       "    <tr>\n",
       "      <th>3</th>\n",
       "      <td>MD</td>\n",
       "      <td>M</td>\n",
       "      <td>I</td>\n",
       "      <td>KANSAS CITY</td>\n",
       "      <td>MO</td>\n",
       "      <td>US</td>\n",
       "      <td>Internal Medicine</td>\n",
       "      <td>Y</td>\n",
       "      <td>O</td>\n",
       "      <td>81002</td>\n",
       "      <td>N</td>\n",
       "      <td>20.0</td>\n",
       "      <td>18</td>\n",
       "      <td>20</td>\n",
       "      <td>3.500000</td>\n",
       "      <td>5.000000</td>\n",
       "      <td>3.430000</td>\n",
       "      <td>3.430000</td>\n",
       "      <td>0</td>\n",
       "    </tr>\n",
       "  </tbody>\n",
       "</table>\n",
       "</div>"
      ],
      "text/plain": [
       "  Provider_Credentials Gender Entity_Type          City State Country_Code  \\\n",
       "0                 M.D.      F           I   SAINT LOUIS    MO           US   \n",
       "1                 M.D.      F           I  FAYETTEVILLE    NC           US   \n",
       "2                  DPM      M           I   NORTH HAVEN    CT           US   \n",
       "3                   MD      M           I   KANSAS CITY    MO           US   \n",
       "\n",
       "             Practice_Type Med_Participatn_Indicator Place_of_Service  \\\n",
       "0        Internal Medicine                         Y                F   \n",
       "1  Obstetrics & Gynecology                         Y                O   \n",
       "2                 Podiatry                         Y                O   \n",
       "3        Internal Medicine                         Y                O   \n",
       "\n",
       "  HCPCS_Code HCPCS_Drug_Indicator  Number_of_Services  Number_of_Med_Ben  \\\n",
       "0      99223                    N                27.0                 24   \n",
       "1      G0202                    N               175.0                175   \n",
       "2      99348                    N                32.0                 13   \n",
       "3      81002                    N                20.0                 18   \n",
       "\n",
       "   Unique_Med_Ben_Per_Day_Services  Avg_Med_Allowed_Amnt  \\\n",
       "0                               27            200.587784   \n",
       "1                              175            123.730003   \n",
       "2                               32             90.650002   \n",
       "3                               20              3.500000   \n",
       "\n",
       "   Avg_Submtd_Charge_Amnt  Avg_Med_Paymnt_Amnt  Avg_Med_Stndrdzd_Amnt  \\\n",
       "0              305.211121           157.262222             160.908890   \n",
       "1              548.799988           118.830002             135.315262   \n",
       "2              155.000000            64.439690              60.595936   \n",
       "3                5.000000             3.430000               3.430000   \n",
       "\n",
       "   Clusters  \n",
       "0         0  \n",
       "1         0  \n",
       "2         0  \n",
       "3         0  "
      ]
     },
     "execution_count": 50,
     "metadata": {},
     "output_type": "execute_result"
    }
   ],
   "source": [
    "df.head(4)"
   ]
  },
  {
   "cell_type": "code",
   "execution_count": 172,
   "metadata": {},
   "outputs": [],
   "source": [
    "#Save as csv\n",
    "df.to_csv('clustered_Healthcare_Providers.csv', index=False)S"
   ]
  }
 ],
 "metadata": {
  "colab": {
   "authorship_tag": "ABX9TyOgnX66/nbe9SM77Jj5Tr3l",
   "collapsed_sections": [],
   "mount_file_id": "1yX0g4Ab6FUx5cYJlrgJszUYnP3OcKR8s",
   "name": "Capstone_3 -.ipynb",
   "provenance": []
  },
  "kernelspec": {
   "display_name": "Python 3",
   "language": "python",
   "name": "python3"
  },
  "language_info": {
   "codemirror_mode": {
    "name": "ipython",
    "version": 3
   },
   "file_extension": ".py",
   "mimetype": "text/x-python",
   "name": "python",
   "nbconvert_exporter": "python",
   "pygments_lexer": "ipython3",
   "version": "3.8.8"
  }
 },
 "nbformat": 4,
 "nbformat_minor": 1
}
